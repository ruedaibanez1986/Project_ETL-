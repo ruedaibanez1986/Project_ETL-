{
 "cells": [
  {
   "cell_type": "code",
   "execution_count": 1,
   "metadata": {},
   "outputs": [],
   "source": [
    "import pandas as pd\n",
    "from sqlalchemy import create_engine\n",
    "import sqlite3\n",
    "\n",
    "# conn = sqlite3.connect('database.db')"
   ]
  },
  {
   "cell_type": "code",
   "execution_count": 2,
   "metadata": {},
   "outputs": [],
   "source": [
    "\n",
    "connection_string = \"postgres:postgres@localhost:5432/customer_database_proposal\"\n",
    "engine = create_engine(f'postgresql://{connection_string}')"
   ]
  },
  {
   "cell_type": "code",
   "execution_count": 3,
   "metadata": {},
   "outputs": [
    {
     "data": {
      "text/plain": [
       "['append_analysis_df']"
      ]
     },
     "execution_count": 3,
     "metadata": {},
     "output_type": "execute_result"
    }
   ],
   "source": [
    "engine.table_names()"
   ]
  },
  {
   "cell_type": "code",
   "execution_count": 4,
   "metadata": {},
   "outputs": [
    {
     "data": {
      "text/html": [
       "<div>\n",
       "<style scoped>\n",
       "    .dataframe tbody tr th:only-of-type {\n",
       "        vertical-align: middle;\n",
       "    }\n",
       "\n",
       "    .dataframe tbody tr th {\n",
       "        vertical-align: top;\n",
       "    }\n",
       "\n",
       "    .dataframe thead th {\n",
       "        text-align: right;\n",
       "    }\n",
       "</style>\n",
       "<table border=\"1\" class=\"dataframe\">\n",
       "  <thead>\n",
       "    <tr style=\"text-align: right;\">\n",
       "      <th></th>\n",
       "      <th>Customer ID</th>\n",
       "      <th>Proposal #</th>\n",
       "      <th>Market</th>\n",
       "      <th>Project Name</th>\n",
       "      <th>Customer Name</th>\n",
       "      <th>Proposal Value</th>\n",
       "      <th>Estimated Value</th>\n",
       "      <th>Status</th>\n",
       "      <th>Notes</th>\n",
       "      <th>City</th>\n",
       "      <th>Zip Code</th>\n",
       "      <th>Contact Firt Name</th>\n",
       "      <th>Email</th>\n",
       "      <th>Year</th>\n",
       "    </tr>\n",
       "  </thead>\n",
       "  <tbody>\n",
       "    <tr>\n",
       "      <td>0</td>\n",
       "      <td>17403</td>\n",
       "      <td>104454M1</td>\n",
       "      <td>Portable Structures</td>\n",
       "      <td>PORTABLE STRUCTURE WINCHES</td>\n",
       "      <td>NORTH AMERICAN TRADE CORPORATION NORAMCO</td>\n",
       "      <td>30600.00</td>\n",
       "      <td>30600.00</td>\n",
       "      <td>Valid</td>\n",
       "      <td>rfq by phone.  10% discount direct per chris. ...</td>\n",
       "      <td>CONROE</td>\n",
       "      <td>77304</td>\n",
       "      <td>GEORGE</td>\n",
       "      <td>georgeh@noramcousa.com</td>\n",
       "      <td>17</td>\n",
       "    </tr>\n",
       "    <tr>\n",
       "      <td>1</td>\n",
       "      <td>10084</td>\n",
       "      <td>104974</td>\n",
       "      <td>Oil &amp; Gas</td>\n",
       "      <td>REQUEST FORWARDED FROM JIM</td>\n",
       "      <td>DELTA RIGGING &amp; TOOLS INC</td>\n",
       "      <td>27111.00</td>\n",
       "      <td>7417.00</td>\n",
       "      <td>Valid</td>\n",
       "      <td>None</td>\n",
       "      <td>ANGLETON</td>\n",
       "      <td>77515</td>\n",
       "      <td>PAULA</td>\n",
       "      <td>None</td>\n",
       "      <td>17</td>\n",
       "    </tr>\n",
       "    <tr>\n",
       "      <td>2</td>\n",
       "      <td>19151\\n</td>\n",
       "      <td>104722D1</td>\n",
       "      <td>Marine</td>\n",
       "      <td>Electrical cable payout/in for Research Barge</td>\n",
       "      <td>TEXAS UNIVERSITY OF</td>\n",
       "      <td>31281.58</td>\n",
       "      <td>0.00</td>\n",
       "      <td>Valid</td>\n",
       "      <td>None</td>\n",
       "      <td>AUSTIN</td>\n",
       "      <td>78758</td>\n",
       "      <td>PURCHASING</td>\n",
       "      <td>None</td>\n",
       "      <td>17</td>\n",
       "    </tr>\n",
       "    <tr>\n",
       "      <td>3</td>\n",
       "      <td>11269</td>\n",
       "      <td>105055</td>\n",
       "      <td>Bulk Handling</td>\n",
       "      <td>Trash Compactor</td>\n",
       "      <td>BISHOP LIFTING PRODUCTS INC</td>\n",
       "      <td>14632.55</td>\n",
       "      <td>0.00</td>\n",
       "      <td>Valid</td>\n",
       "      <td>None</td>\n",
       "      <td>HOUSTON</td>\n",
       "      <td>77029</td>\n",
       "      <td>GAWAIN</td>\n",
       "      <td>gawain.seymour@lifting.com</td>\n",
       "      <td>17</td>\n",
       "    </tr>\n",
       "    <tr>\n",
       "      <td>4</td>\n",
       "      <td>10293</td>\n",
       "      <td>105066</td>\n",
       "      <td>Aerospace</td>\n",
       "      <td>SpaceX Booster Rocket lift- Hydraulic Winch</td>\n",
       "      <td>DELTA RIGGING &amp; TOOLS INC</td>\n",
       "      <td>41478.51</td>\n",
       "      <td>41478.51</td>\n",
       "      <td>Valid</td>\n",
       "      <td>wes D</td>\n",
       "      <td>HURST</td>\n",
       "      <td>76053-7403</td>\n",
       "      <td>LARRY</td>\n",
       "      <td>loster@deltarigging.com</td>\n",
       "      <td>17</td>\n",
       "    </tr>\n",
       "  </tbody>\n",
       "</table>\n",
       "</div>"
      ],
      "text/plain": [
       "  Customer ID Proposal #               Market  \\\n",
       "0       17403   104454M1  Portable Structures   \n",
       "1       10084     104974            Oil & Gas   \n",
       "2     19151\\n   104722D1               Marine   \n",
       "3       11269     105055        Bulk Handling   \n",
       "4       10293     105066            Aerospace   \n",
       "\n",
       "                                    Project Name  \\\n",
       "0                     PORTABLE STRUCTURE WINCHES   \n",
       "1                     REQUEST FORWARDED FROM JIM   \n",
       "2  Electrical cable payout/in for Research Barge   \n",
       "3                                Trash Compactor   \n",
       "4    SpaceX Booster Rocket lift- Hydraulic Winch   \n",
       "\n",
       "                              Customer Name  Proposal Value  Estimated Value  \\\n",
       "0  NORTH AMERICAN TRADE CORPORATION NORAMCO        30600.00         30600.00   \n",
       "1                 DELTA RIGGING & TOOLS INC        27111.00          7417.00   \n",
       "2                       TEXAS UNIVERSITY OF        31281.58             0.00   \n",
       "3               BISHOP LIFTING PRODUCTS INC        14632.55             0.00   \n",
       "4                 DELTA RIGGING & TOOLS INC        41478.51         41478.51   \n",
       "\n",
       "  Status                                              Notes      City  \\\n",
       "0  Valid  rfq by phone.  10% discount direct per chris. ...    CONROE   \n",
       "1  Valid                                               None  ANGLETON   \n",
       "2  Valid                                               None    AUSTIN   \n",
       "3  Valid                                               None   HOUSTON   \n",
       "4  Valid                                              wes D     HURST   \n",
       "\n",
       "     Zip Code Contact Firt Name                       Email  Year  \n",
       "0       77304            GEORGE      georgeh@noramcousa.com    17  \n",
       "1       77515             PAULA                        None    17  \n",
       "2       78758        PURCHASING                        None    17  \n",
       "3       77029            GAWAIN  gawain.seymour@lifting.com    17  \n",
       "4  76053-7403             LARRY     loster@deltarigging.com    17  "
      ]
     },
     "execution_count": 4,
     "metadata": {},
     "output_type": "execute_result"
    }
   ],
   "source": [
    "pd.read_sql_query('select * from append_analysis_df', con=engine).head()"
   ]
  },
  {
   "cell_type": "code",
   "execution_count": null,
   "metadata": {},
   "outputs": [],
   "source": []
  },
  {
   "cell_type": "code",
   "execution_count": null,
   "metadata": {},
   "outputs": [],
   "source": [
    "analysis_df = pd.read_sql(query.statement, query.session.bind)\n"
   ]
  }
 ],
 "metadata": {
  "kernelspec": {
   "display_name": "Python 3.7.4 64-bit ('base': conda)",
   "language": "python",
   "name": "python37464bitbaseconda62cc632aa68244de81d94cca3d165e0a"
  },
  "language_info": {
   "codemirror_mode": {
    "name": "ipython",
    "version": 3
   },
   "file_extension": ".py",
   "mimetype": "text/x-python",
   "name": "python",
   "nbconvert_exporter": "python",
   "pygments_lexer": "ipython3",
   "version": "3.7.4"
  }
 },
 "nbformat": 4,
 "nbformat_minor": 2
}
